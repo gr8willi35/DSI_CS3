{
 "metadata": {
  "language_info": {
   "codemirror_mode": {
    "name": "ipython",
    "version": 3
   },
   "file_extension": ".py",
   "mimetype": "text/x-python",
   "name": "python",
   "nbconvert_exporter": "python",
   "pygments_lexer": "ipython3",
   "version": "3.7.10-final"
  },
  "orig_nbformat": 2,
  "kernelspec": {
   "name": "python3710jvsc74a57bd0b7dce63e39a4a8c98f5a1ef1e65571106e15efed32663927d397570964b86d03",
   "display_name": "Python 3.7.10 64-bit ('base': conda)"
  }
 },
 "nbformat": 4,
 "nbformat_minor": 2,
 "cells": [
  {
   "cell_type": "code",
   "execution_count": 1,
   "metadata": {},
   "outputs": [],
   "source": [
    "import numpy as np\n",
    "import pandas as pd\n",
    "\n",
    "import scipy.stats as stats\n",
    "import scipy\n",
    "import matplotlib.pyplot as plt\n",
    "plt.style.use('fivethirtyeight')\n",
    "from pprint import pprint\n",
    "\n",
    "import requests\n",
    "\n",
    "from bs4 import BeautifulSoup\n",
    "\n",
    "import json\n",
    "import time\n",
    "import copy\n",
    "from collections import Counter\n",
    "import re\n",
    "import string\n",
    "\n",
    "from sklearn.feature_extraction.text import CountVectorizer, TfidfVectorizer\n",
    "from sklearn.model_selection import train_test_split"
   ]
  },
  {
   "cell_type": "code",
   "execution_count": 2,
   "metadata": {},
   "outputs": [],
   "source": [
    "corpus = pd.read_csv(\"data/booksummaries/summaries&genres.csv\")\n",
    "corpus['Summary'] = corpus['Summary'].str.lower()\n",
    "corpus;"
   ]
  },
  {
   "cell_type": "code",
   "execution_count": 3,
   "metadata": {},
   "outputs": [],
   "source": [
    "y = corpus['scifi?'] #create targets"
   ]
  },
  {
   "cell_type": "code",
   "execution_count": 4,
   "metadata": {},
   "outputs": [],
   "source": [
    "X_train, X_test, y_train, y_test = train_test_split(corpus, y,train_size=.775,stratify=y) #split data with all columns/info"
   ]
  },
  {
   "cell_type": "code",
   "execution_count": 5,
   "metadata": {},
   "outputs": [],
   "source": [
    "from nltk.corpus import stopwords\n",
    "sw = stopwords.words('english') #setup stop words\n",
    "\n",
    "tfidf_vec = TfidfVectorizer(stop_words=sw)"
   ]
  },
  {
   "cell_type": "code",
   "execution_count": 6,
   "metadata": {},
   "outputs": [],
   "source": [
    "X_train_nlp = tfidf_vec.fit_transform(X_train['Summary'])#use only summary column, train model"
   ]
  },
  {
   "cell_type": "code",
   "execution_count": 7,
   "metadata": {},
   "outputs": [],
   "source": [
    "from sklearn.ensemble import RandomForestClassifier"
   ]
  },
  {
   "cell_type": "code",
   "execution_count": 8,
   "metadata": {},
   "outputs": [],
   "source": [
    "from nltk.util import ngrams\n",
    "from nltk.tokenize import sent_tokenize, word_tokenize\n",
    "from nltk.corpus import stopwords\n",
    "from nltk.stem.snowball import  SnowballStemmer\n",
    "from nltk.stem import WordNetLemmatizer\n",
    "from sklearn import preprocessing\n",
    "from sklearn.model_selection import train_test_split\n",
    "from sklearn.naive_bayes import MultinomialNB as SKMultinomialNB\n",
    "import unicodedata\n",
    "from nltk.corpus import stopwords"
   ]
  },
  {
   "cell_type": "code",
   "execution_count": 9,
   "metadata": {},
   "outputs": [],
   "source": [
    "rf = RandomForestClassifier(max_depth=100, max_features = 'auto', oob_score=True)"
   ]
  },
  {
   "cell_type": "code",
   "execution_count": 10,
   "metadata": {},
   "outputs": [],
   "source": [
    "X_train_nlp = tfidf_vec.fit_transform(X_train['Summary'])\n",
    "X_test_nlp = tfidf_vec.transform(X_test['Summary'])"
   ]
  },
  {
   "cell_type": "code",
   "execution_count": 11,
   "metadata": {},
   "outputs": [
    {
     "output_type": "execute_result",
     "data": {
      "text/plain": [
       "RandomForestClassifier(max_depth=100, oob_score=True)"
      ]
     },
     "metadata": {},
     "execution_count": 11
    }
   ],
   "source": [
    "rf.fit(X_train_nlp, y_train)"
   ]
  },
  {
   "cell_type": "code",
   "execution_count": 12,
   "metadata": {},
   "outputs": [],
   "source": [
    "TFIDF_train_score = rf.score(X_train_nlp, y_train)\n",
    "TFIDF_test_score = rf.score(X_test_nlp, y_test)"
   ]
  },
  {
   "cell_type": "code",
   "execution_count": 13,
   "metadata": {},
   "outputs": [
    {
     "output_type": "stream",
     "name": "stdout",
     "text": [
      "0.9726660637121898\n0.8546712802768166\n"
     ]
    }
   ],
   "source": [
    "print(TFIDF_train_score)\n",
    "print(TFIDF_test_score)"
   ]
  },
  {
   "cell_type": "code",
   "execution_count": 14,
   "metadata": {},
   "outputs": [
    {
     "output_type": "stream",
     "name": "stdout",
     "text": [
      "col_0   False  True \nscifi?              \nFalse    2223     17\nTrue      403    247\n"
     ]
    }
   ],
   "source": [
    "#Confusion Matrix\n",
    "from sklearn.metrics import confusion_matrix\n",
    "from sklearn.metrics import plot_confusion_matrix\n",
    "predictions = rf.predict(X_test_nlp)\n",
    "cf = pd.crosstab(y_test, predictions)\n",
    "print(cf)"
   ]
  },
  {
   "cell_type": "code",
   "execution_count": 16,
   "metadata": {},
   "outputs": [
    {
     "output_type": "stream",
     "name": "stdout",
     "text": [
      "[False  True False ... False False False]\n"
     ]
    }
   ],
   "source": [
    "rf.predict(X_test_nlp)"
   ]
  },
  {
   "cell_type": "code",
   "execution_count": 18,
   "metadata": {},
   "outputs": [],
   "source": [
    "mislabeled = X_test[y_test != predictions]"
   ]
  },
  {
   "cell_type": "code",
   "execution_count": 20,
   "metadata": {},
   "outputs": [
    {
     "output_type": "execute_result",
     "data": {
      "text/plain": [
       "       Unnamed: 0                                             Genres  \\\n",
       "1258         1519  {\"/m/06n90\": \"Science Fiction\", \"/m/0dwly\": \"C...   \n",
       "10314       12513                    {\"/m/06n90\": \"Science Fiction\"}   \n",
       "7225         8620  {\"/m/06n90\": \"Science Fiction\", \"/m/014dfn\": \"...   \n",
       "7691         9186  {\"/m/06n90\": \"Science Fiction\", \"/m/014dfn\": \"...   \n",
       "6314         7481  {\"/m/06n90\": \"Science Fiction\", \"/m/014dfn\": \"...   \n",
       "...           ...                                                ...   \n",
       "10745       13185  {\"/m/06n90\": \"Science Fiction\", \"/m/08sdrw\": \"...   \n",
       "9719        11704                    {\"/m/06n90\": \"Science Fiction\"}   \n",
       "5000         5980  {\"/m/01jfsb\": \"Thriller\", \"/m/06n90\": \"Science...   \n",
       "6117         7246  {\"/m/06n90\": \"Science Fiction\", \"/m/014dfn\": \"...   \n",
       "5687         6748  {\"/m/0lsxr\": \"Crime Fiction\", \"/m/028v3\": \"Det...   \n",
       "\n",
       "                                                 Summary  scifi?  \n",
       "1258    eldest begins as ajihad, the leader of the re...    True  \n",
       "10314   'the return to pellucidar'. david innes goes ...    True  \n",
       "7225    on a lonely stretch of welsh coastline, a fis...    True  \n",
       "7691    the book starts before the conclusion of birt...    True  \n",
       "6314    an eight-man construction crew is building an...    True  \n",
       "...                                                  ...     ...  \n",
       "10745   the hunger games takes place in a nation know...    True  \n",
       "9719    the novel is a space opera about a contempora...    True  \n",
       "5000    as laura shane is born in january 1955, durin...    True  \n",
       "6117    derek \"van\" vandeveer is a young, well respec...    True  \n",
       "5687    a hard-boiled police procedural set in a high...    True  \n",
       "\n",
       "[420 rows x 4 columns]"
      ],
      "text/html": "<div>\n<style scoped>\n    .dataframe tbody tr th:only-of-type {\n        vertical-align: middle;\n    }\n\n    .dataframe tbody tr th {\n        vertical-align: top;\n    }\n\n    .dataframe thead th {\n        text-align: right;\n    }\n</style>\n<table border=\"1\" class=\"dataframe\">\n  <thead>\n    <tr style=\"text-align: right;\">\n      <th></th>\n      <th>Unnamed: 0</th>\n      <th>Genres</th>\n      <th>Summary</th>\n      <th>scifi?</th>\n    </tr>\n  </thead>\n  <tbody>\n    <tr>\n      <th>1258</th>\n      <td>1519</td>\n      <td>{\"/m/06n90\": \"Science Fiction\", \"/m/0dwly\": \"C...</td>\n      <td>eldest begins as ajihad, the leader of the re...</td>\n      <td>True</td>\n    </tr>\n    <tr>\n      <th>10314</th>\n      <td>12513</td>\n      <td>{\"/m/06n90\": \"Science Fiction\"}</td>\n      <td>'the return to pellucidar'. david innes goes ...</td>\n      <td>True</td>\n    </tr>\n    <tr>\n      <th>7225</th>\n      <td>8620</td>\n      <td>{\"/m/06n90\": \"Science Fiction\", \"/m/014dfn\": \"...</td>\n      <td>on a lonely stretch of welsh coastline, a fis...</td>\n      <td>True</td>\n    </tr>\n    <tr>\n      <th>7691</th>\n      <td>9186</td>\n      <td>{\"/m/06n90\": \"Science Fiction\", \"/m/014dfn\": \"...</td>\n      <td>the book starts before the conclusion of birt...</td>\n      <td>True</td>\n    </tr>\n    <tr>\n      <th>6314</th>\n      <td>7481</td>\n      <td>{\"/m/06n90\": \"Science Fiction\", \"/m/014dfn\": \"...</td>\n      <td>an eight-man construction crew is building an...</td>\n      <td>True</td>\n    </tr>\n    <tr>\n      <th>...</th>\n      <td>...</td>\n      <td>...</td>\n      <td>...</td>\n      <td>...</td>\n    </tr>\n    <tr>\n      <th>10745</th>\n      <td>13185</td>\n      <td>{\"/m/06n90\": \"Science Fiction\", \"/m/08sdrw\": \"...</td>\n      <td>the hunger games takes place in a nation know...</td>\n      <td>True</td>\n    </tr>\n    <tr>\n      <th>9719</th>\n      <td>11704</td>\n      <td>{\"/m/06n90\": \"Science Fiction\"}</td>\n      <td>the novel is a space opera about a contempora...</td>\n      <td>True</td>\n    </tr>\n    <tr>\n      <th>5000</th>\n      <td>5980</td>\n      <td>{\"/m/01jfsb\": \"Thriller\", \"/m/06n90\": \"Science...</td>\n      <td>as laura shane is born in january 1955, durin...</td>\n      <td>True</td>\n    </tr>\n    <tr>\n      <th>6117</th>\n      <td>7246</td>\n      <td>{\"/m/06n90\": \"Science Fiction\", \"/m/014dfn\": \"...</td>\n      <td>derek \"van\" vandeveer is a young, well respec...</td>\n      <td>True</td>\n    </tr>\n    <tr>\n      <th>5687</th>\n      <td>6748</td>\n      <td>{\"/m/0lsxr\": \"Crime Fiction\", \"/m/028v3\": \"Det...</td>\n      <td>a hard-boiled police procedural set in a high...</td>\n      <td>True</td>\n    </tr>\n  </tbody>\n</table>\n<p>420 rows × 4 columns</p>\n</div>"
     },
     "metadata": {},
     "execution_count": 20
    }
   ],
   "source": [
    "# mislabeled"
   ]
  },
  {
   "cell_type": "code",
   "execution_count": 23,
   "metadata": {},
   "outputs": [
    {
     "output_type": "execute_result",
     "data": {
      "text/plain": [
       " becomes apparent that widgie and jen have become caught up in an entire underground civilisation, the north london system, kept secret for centuries from the world above. two civilisations, in fact, seemingly perpetually at war. their arrival is the catalyst for a climactic battle between the railway and the canals. widgie manages to escape and rescues jen, and the realisation of the threat they pose should they escape above ground and expose the system forces the railwaymen and the canallers to set aside their differences for the time being in a vain effort to recapture them. in the course of the battle, giant rats, kept imprisoned in a blocked-up tunnel, are released and proceed to spread through the whole system. as widgie and jen escape into the post office railway, it appears that the entire civilisation is on the verge of disintegration under the assault from the rats.',\n",
       "       ' abel and morgan live in a small castle in an indeterminate place and time of civil war. they decide to abandon their home and join the refugees seeking safety. a group of irregulars led by \"the lieutenant\" (or \"loot\") stops them and takes them back to the castle, which they proceed to fortify as a base. the soldiers loot the castle, and morgan is seduced by loot. a rival faction attacks the castle with artillery and abel is taken along with the fighters on a counter-attack. when they return, abel almost shoots loot and there is a violent and nihilistic ending. a song of stone tells the frightening story of what happens when the normal rules of society break down. themes of incest, violence and war are intertwined with the lives of the rather pompous but lyrical disgraced aristocrat abel, the vacuous and submissive morgan, the ruthless loot, and her soldiers with names like \"psycho\", \"karma\" and \"deathwish\". the story is told by abel in the first person. abel describes morgan\\'s actions in the second person, mostly when she is in his direct view. as the invaders systematically loot and destroy abel\\'s family\\'s ancestral home, abel seems ambivalent to what is happening. later, when the lieutenant suggests a memorial for abel\\'s lifelong family retainer, who has just been killed, abel and the reader realise that he does not know the servant\\'s surname. the violence of war is described graphically.',\n",
       "       \" the novel is divided into 3 sections: legend, fact, and history. in legend, the characters tell stories of what they were doing before they arrived and about people they met and things they did. the storytelling is interrupted by an alien invasion of the system, to which the heroes react. the history section sees everyone gathered back at the outpost to share their stories and find out the fates of the others. *catastrophe baker and the dragon queen *the last landship (hellfire carson) *the greatest painting of all time (little mike) *the short, star-crossed career of magic adbul-jordan (big red) *when iron-arm mcpherson took the mound (big red) *the night bet-a-world o'grady met high-stakes eddie *catastrophe baker and the siren of silverstrike\",\n",
       "       ' the novel concerns twins, one of whom travels in a spaceship and is subject to the fitzgerald contraction thus aging slower than the other.',\n",
       "       ' captain kirk learns the cloaking device he stole from the romulan star empire months ago is being used for sinister purposes. he also learns about section 31, a group of starfleet officers who answer to no one and are willing to kill anyone to protect their secrets.',\n",
       "       \" eight months into their stay on mars, the life-sciences specialist discovers a microbial fossil. subsequent to this, the crew begin to suffer various mishaps, including damage to mission property and direct attacks upon themselves. complicating the situation is the apparent psychiatric breakdown of the mission commander and his definite attempts to injure or kill his fellow crewmembers. on earth, the mars mission director, working with an agent of the fbi, races to discover who sabotaged the mission before the crew even arrived on mars—and who might be trying to strand the crew on mars now that they're on it. he is shocked to discover that his own flight director committed the initial sabotage—he was trying to seed mars with a bacterium that would be taken as evidence of life on mars, thus ensuring continued funding of project ares, the official name for the program. but when the life-sciences specialist falls ill from an actual microbial infection—from live bacteria which she has subsequently discovered—the mishaps multiply, with a corresponding increase in the physical danger to the crew. someone other than the flight director is responsible for this. at the very end, that someone is revealed to be a nasa engineer who fears that the crew, now on their way back to earth, are bringing back a germ that could potentially kill millions of people—this although the crew clearly showed that the germ was sensitive to the antibiotics they had carried with them. the mission ends with the psychiatrically challenged commander sacrificing his own life to save the rest of the crew—and the marriage of the two mission specialists aboard their earth return vehicle.\",\n",
       "       ' karl sten is a young boy growing up on an industrial factory world called vulcan. sten\\'s parents are little better than indentured servants, always wanting to raise their children somewhere else, but never able to \"buy out\" their contracts and leave. after sten\\'s family is killed in an industrial cover-up initiated by vulcan\\'s ceo, baron thoresen, sten rebels against the laws of vulcan and escapes to live on his own in the background of the factory world. for several years he runs with the delinqs, a band of young outlaws that have also rejected the ideals of the company. one day he saves an off-worlder, ian mahoney, from a security team. mahoney is the head of imperial intelligence and is trying to gather information on a special project baron thoresen is running. mahoney offers sten and his gang a chance to leave vulcan if they can get the information he needs. unfortunately, during the mission they are discovered and sten is apparently the only one who makes it back alive. true to his word, ian takes sten off the hellhole of his birth, but enlists him the military to keep him safe. during imperial guards training, sten proves to be square peg for the traditional military, but perfect for the super secret cia-type covert branch of intelligence that ian heads, called mantis. while in mantis, sten excels and becomes the head of team 13, with alex kilgour, a heavy worlder from new edinburgh, (who has a rather ill-tempered view of the campbell clan) as his second in command. eventually, the eternal emperor assigns team 13 to bring down the government of vulcan so the baron\\'s secret project can be unmasked. team 13 accomplishes this by organizing a rebellion, which gets out of control and almost tears apart the factory world in a heated frenzy. sten and team 13 finish the job up with sneakiness, judicious violence and a few well placed explosions. sten confronts his parents killer, baron thorenson, and kills him by ripping his heart out with his bare hands. at the conclusion of the novel, while being dressed down for killing thoresen against the emperor\\'s orders, ian promotes sten to lieutenant. it seems the emperor had thought better of his order not to kill the baron but had not been able to get word to the team in the field. a great future seems to be in store for our hero.',\n",
       "       ' the hunger games takes place in a nation known as panem, established in north america after the destruction of the continent\\'s civilization by an unknown apocalyptic event. the nation consists of the wealthy capitol and twelve surrounding, poorer districts united under the capitol\\'s control. district&nbsp;12, where the book begins, is located in the coal-rich region that was formerly known as appalachia. as punishment for a past rebellion against the capitol, in which a 13th district was destroyed, one boy and one girl between the ages of 12&nbsp;and 18&nbsp;from each district are selected by an annual lottery to participate in the hunger games, an event in which the participants (or \"tributes\") must fight to the death in an outdoor arena controlled by the capitol, until only one individual remains. the story is narrated by 16-year-old katniss everdeen, a girl from district&nbsp;12 who volunteers for the 74th annual hunger games in place of her younger sister, primrose. the male tribute chosen from district&nbsp;12 is peeta mellark, a former schoolmate of katniss who once gave her bread from his family\\'s bakery when her family was starving. katniss and peeta are taken to the capitol, where their drunken mentor, haymitch abernathy, victor of the 50th hunger games, instructs them to watch and determine the strengths and weaknesses of the other tributes. \"stylists\" are employed to make each tribute look his or her best; katniss\\'s stylist, cinna, is the only person at the capitol with whom she feels a degree of understanding. the tributes are publicly displayed to the capitol audience in an interview with television host caesar flickerman, and have to attempt to appeal to the television audience in order to obtain \"sponsors\". during this time, peeta reveals on-air his longtime unrequited love for katniss. katniss believes this to be a ploy to gain sponsors, who can be critical to survival because of their ability to send gifts such as food, medicine, and tools to favored tributes during the games. while nearly half the tributes are killed in the first day of the games, katniss relies on her well-practiced hunting and survival skills to remain unharmed and concealed from the other tributes. a few days into the games, katniss develops an alliance with rue, a 12-year-old girl from the agricultural district&nbsp;11 who reminds katniss of her own sister. in the meantime, peeta appears to have joined forces with the tributes from the richer districts. however, when he has the opportunity to kill katniss, he instead saves her from the others. katniss\\'s alliance with rue is brought to an abrupt end when rue is killed by another tribute, whom katniss then kills with an arrow. katniss sings to rue until she dies, and spreads flowers over her body as a sign of respect for rue and disgust towards the capitol. apparently because of katniss and peeta\\'s image in the minds of the audience as \"star-crossed lovers\", a rule change is announced midway through the games, allowing two tributes from the same district to win the hunger games as a couple. upon hearing this, katniss begins searching for peeta. she eventually finds him, wounded and in hiding. as she nurses him back to health, she acts the part of a young girl falling in love to gain more favor with the audience and, consequently, gifts from her sponsors. when the couple remain as the last two surviving tributes, the gamemakers reverse the rule change in an attempt to force them into a dramatic finale, where one must kill the other to win. katniss, knowing that the gamemakers would rather have two victors than none, retrieves highly poisonous berries known as \"nightlock\" from her pouch and offers some to peeta. realizing that katniss and peeta intend to commit suicide, the gamemakers announce that both will be the victors of the 74th hunger games. although she survives the ordeal in the arena and is treated to a hero\\'s welcome in the capitol, katniss is warned by haymitch that she has now become a political target after defying her society\\'s authoritarian leaders so publicly. afterwards, peeta is heartbroken when he learns that katniss\\'s actions in the arena were part of a calculated ploy to earn sympathy from the audience. however, katniss is unsure of her own feelings and realizes that she is dreading the moment when she and peeta will go their separate ways.',\n",
       "       ' the novel is a space opera about a contemporary man who awakens in the far future.',\n",
       "       ' as laura shane is born in january 1955, during a freak lightning storm, a mysterious blond stranger (stefan) prevents a drunken dr. paul markwell from attending to the difficult and complicated delivery. her mother dies in childbirth, though laura is a perfectly healthy, exceptionally beautiful baby, and she is left to be raised by her father bob shane. when laura is eight years old, a junkie attempts to rob her father\\'s convenience store; however the blond stranger reappears, saving them both and instructing them on what to tell the police. in 1967, bob shane dies of a heart attack. at her father’s funeral laura sees the stranger watching over her yet again and begins to think he is her guardian angel, along with an unnamed man calling for her when she tries to follow him. laura is sent to live in the mcilroy orphanage, where she is housed with a set of twins, thelma and ruth, who later become her best friends. she also meets willy sheener, a frightening child molester who is also the maintenance man and custodian. willy becomes infatuated with laura due to her uncommonly good looks, haunting her wherever she goes in the orphanage. however, due to past experience the twins warn laura that reporting sheener, also known as \"the white eel\" or \"eel\" for short, will do more harm than good. laura is eventually sent to live with a foster family that exploits her, so she purposely behaves badly and they send her back to the orphanage. after several disturbing incidents, her mysterious angel visits sheener and brutally beats him. this scares him off for some time, until laura is sent to live with the dockwielers, with whom she quickly forms a bond. sheener comes to their home one afternoon; laura is able to fend him off and eventually kill him, but the shock of discovering the scene causes her new foster mother to suffer a fatal heart attack, sending laura back to the orphanage. shortly thereafter, laura turns 13 and is moved to another orphanage for older children, and receives the devastating news that ruth was caught in a fire in mcilroy and died. at college, laura\\'s creative writing brings her to the attention of danny, a naive man who has fallen in love with her from afar. after a botched attempt at being her secret admirer they agree to date and over time, fall in love. after their marriage laura becomes a celebrated author of several books and gives birth to a boy, christopher robin. the birth was difficult, making it so she will not be able to have any children in the future. years later, danny, laura and chris are saved from a horrific accident by the blond man\\'s (revealed to be named stefan) intervention. the unnamed man shows up moments later. both danny and the blond man attack but danny dies of several gunshot wounds, before stefan kills the man and tells laura what to say, like years ago at the grocery store. he promises to return soon and tell more, but due to mistakes, he doesn\\'t return until a year later, wounded, in an isolated stretch of winter woods. laura and chris are able to treat him at a doctor they locate in the phone book, but must battle unknown assassins shortly thereafter. the group hides out in a small motel. stefan recovers and finally tells his story. he is from nazi germany in the year 1944, and is part of secret time traveling experiments, sending agents to the future to uncover ways to change the outcome of world war ii. stefan had previously arrived in an alternate version of 1984 and had seen laura, who was a quadriplegic because of dr. markwell\\'s drunken errors during her delivery. however, despite her disability, she wrote beautiful books of poetry which inspired stefan to renounce his mission, and travel to difficult parts of her life to change them. however, his superior kokoschka became suspicious of him and followed him, sending the assassins into the future to learn of their path. with the help of thelma, who has become rich as an actress since her sister\\'s death, they gain many supplies they need. fat jack, an arms dealer, supplies them with guns and vexxon nerve gas. with the aid of modern computational technology, stefan is prepared to go back to his time. he uses the nerve gas to kill the five men on duty at the time and disposes their bodies six billion years in the future. he makes a jump to see winston churchill and convinces him that the institute containing the time machine must be bombed; churchill agrees. stefan also makes a trip to adolf hitler, to convince the dictator of various threads that must be cleared up, in reality sabotaging the german war effort. while he is gone, laura and chris, in an empty patch of rain washed desert, are attacked by more nazis, as records of a police stop have been discovered. stefan returns to find laura and chris dead. he works around the time limit of the machine by sending laura a message to save them. despite this, chris and laura still have to battle all four men themselves. the second cylinder of nerve gas proves invaluable. it is laura who eventually kills all four men pursuing them, as she protects chris as best she can. in the long months that follow, laura and chris are questioned by the police. they soon believe a story of \\'drug dealers\\' who wanted revenge. laura backs up her story by turning over fat jack, something she was going to do anyway (he does not blame her, due to his personal beliefs). stefan, who had been hiding with thelma, comes to live with the two again. after even more time, laura finds herself falling in love with him.',\n",
       "       ' derek \"van\" vandeveer is a young, well respected, computer scientist who we find enjoying breakfast in his new home with his wife and young son. he is rich with stock options and heady with his own success when his whole world is suddenly and forever changed as the planes begin crashing into the world trade center. within months his fortune is gone to an enron-like scandal, and his wife and son have moved west to work on a new telescope being developed by a billionaire entrepreneur. van is recruited into a nascent wing of the government working on the outside of the main bureaucracy to vastly improve the security of government systems. his ingenious design gains him even more respect from his peers, but as the project continues van goes through personality changes, becoming more paranoid and simultaneously more patriotic. without the psychological aid of the money and nice house of his former company, he even begins to question whether he really is a computer scientist or just an over-glorified technician. the novel comes to head as van is asked to look into the reason a multi-billion dollar pork project spy satellite is failing in space. the bureaucracy, thinking that he will fail in this endeavor, hopes to use it to discredit his boss and him and put an end to their power climb in washington. van discovers the problem and through a covert military-like attack on the source, puts an end to it.',\n",
       "       \" a hard-boiled police procedural set in a highly imaginative megalopolis called the montezuma strip, which stretches along the old u.s.-mexican border. when police inspector angel cardenas investigates the case of a male corpse found with most of its internal organs missing, the victim turns out to have had two identities - one as a local executive, the other as a texas businessman. the plot thickens when the victim's booby-trapped house nearly kills cardenas and his partner. the author makes use of a vast array of futuristic elements; notably, sapient apes led by gorillas and intelligent rogue computers that commit computer crimes. while the book does not state this, this is a continuation of a series of short stories featuring the same main character, written by foster and initially published in genre magazines under the pen-name of james lawson, and then collected under his own name in the warner book montezuma strip (1995), isbn 0-446-60207-8\"],\n",
       "      dtype=object)"
      ]
     },
     "metadata": {},
     "execution_count": 23
    }
   ],
   "source": [
    "mislabeled['Summary'].values"
   ]
  },
  {
   "cell_type": "code",
   "execution_count": null,
   "metadata": {},
   "outputs": [],
   "source": []
  }
 ]
}