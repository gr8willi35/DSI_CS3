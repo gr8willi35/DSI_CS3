{
 "cells": [
  {
   "cell_type": "code",
   "execution_count": 44,
   "metadata": {},
   "outputs": [],
   "source": [
    "from scipy import stats\n",
    "import numpy as np\n",
    "import matplotlib.pyplot as plt\n",
    "from sklearn.model_selection import train_test_split\n",
    "import pandas as pd\n",
    "import numpy as np\n",
    "\n",
    "import scipy.stats as stats\n",
    "import scipy\n",
    "\n",
    "import pandas as pd\n",
    "import matplotlib.pyplot as plt\n",
    "plt.style.use('fivethirtyeight')\n",
    "\n",
    "import requests\n",
    "\n",
    "from bs4 import BeautifulSoup\n",
    "\n",
    "import json\n",
    "import time\n",
    "import copy"
   ]
  },
  {
   "cell_type": "code",
   "execution_count": 45,
   "metadata": {},
   "outputs": [],
   "source": [
    "col_names=[\"Wikipedia ID\", \"Freebase ID\", \"Book Title\", \"Book Author\", \"Pub date\",\"Genres\",\"Summary\"]"
   ]
  },
  {
   "cell_type": "code",
   "execution_count": 46,
   "metadata": {},
   "outputs": [],
   "source": [
    "books = pd.read_csv(\"data/booksummaries/booksummaries.txt\", \n",
    "                              header=None,sep=\"\\t\", \n",
    "                              names=col_names)"
   ]
  },
  {
   "cell_type": "code",
   "execution_count": 47,
   "metadata": {},
   "outputs": [
    {
     "output_type": "execute_result",
     "data": {
      "text/plain": [
       "(12841, 7)"
      ]
     },
     "metadata": {},
     "execution_count": 47
    }
   ],
   "source": [
    "books_df = pd.DataFrame(books)\n",
    "# must have summary and genre filled out\n",
    "books_df = books_df.dropna(subset=['Genres','Summary'])\n",
    "books_df.shape"
   ]
  },
  {
   "cell_type": "code",
   "execution_count": 48,
   "metadata": {},
   "outputs": [],
   "source": [
    "summaries = books_df[['Genres','Summary']]"
   ]
  },
  {
   "cell_type": "code",
   "execution_count": 49,
   "metadata": {},
   "outputs": [],
   "source": [
    "def genre_scifi_tf(genre_string):\n",
    "    lst = ['\"Science Fiction\"',\"science fiction\",\"Sci-Fi\",\"sci-fi\"]\n",
    "    for i in lst:\n",
    "        if i in genre_string:\n",
    "            return True\n",
    "    return False"
   ]
  },
  {
   "cell_type": "code",
   "execution_count": 50,
   "metadata": {},
   "outputs": [],
   "source": [
    "summaries.insert(2, \"scifi?\",summaries[\"Genres\"].apply(genre_scifi_tf))"
   ]
  },
  {
   "cell_type": "code",
   "execution_count": 51,
   "metadata": {},
   "outputs": [],
   "source": [
    "summaries.to_csv(\"data/booksummaries/summaries&genres.csv\")"
   ]
  },
  {
   "cell_type": "code",
   "execution_count": null,
   "metadata": {},
   "outputs": [],
   "source": []
  }
 ],
 "metadata": {
  "kernelspec": {
   "name": "python385jvsc74a57bd069acf6d6addf09ae14a17f1667523fdee09ad0e6b01cab7eee8b8ae1ff3d6e12",
   "display_name": "Python 3.8.5 64-bit ('reinforce': conda)"
  },
  "language_info": {
   "codemirror_mode": {
    "name": "ipython",
    "version": 3
   },
   "file_extension": ".py",
   "mimetype": "text/x-python",
   "name": "python",
   "nbconvert_exporter": "python",
   "pygments_lexer": "ipython3",
   "version": "3.8.5"
  }
 },
 "nbformat": 4,
 "nbformat_minor": 5
}